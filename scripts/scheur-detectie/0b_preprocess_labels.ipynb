{
 "cells": [
  {
   "cell_type": "code",
   "execution_count": null,
   "metadata": {},
   "outputs": [],
   "source": [
    "# -*- coding: utf-8 -*-\n",
    "\"\"\"\n",
    "Preprocesses the export from supervisely (images and masks) to subimages\n",
    "Specify subimage_height and subimage_width in config.yml\n",
    "\n",
    "@authors: \n",
    "    Joost Driebergen (HKV lijn in water)\n",
    "    Jeroen Baars     (HHNK)\n",
    "\"\"\"\n",
    "import cv2\n",
    "import yaml\n",
    "import glob\n",
    "import numpy as np\n",
    "import rasterio as rio\n",
    "from pathlib import Path\n",
    "from rasterio.windows import Window\n",
    "from helper_functions.functions import folder_buildr\n",
    "\n",
    "# Load config file\n",
    "with open(\"../config.yml\", \"r\") as ymlfile:\n",
    "    cfg = yaml.load(ymlfile, yaml.SafeLoader)\n",
    "\n",
    "# Load paths from config\n",
    "input_masks = cfg[\"folder\"][\"input_masks\"]\n",
    "data_input  = Path(cfg[\"folder\"][\"input_folder\"])\n",
    "\n",
    "# Setup folders and make the directories\n",
    "img, masks = folder_buildr(data_input, masks_dir=input_masks)\n",
    "\n",
    "print(img, masks)"
   ]
  },
  {
   "cell_type": "code",
   "execution_count": null,
   "metadata": {},
   "outputs": [],
   "source": [
    "def read_image(path, IMAGE_SIZE):\n",
    "    if not (type(path) == str):\n",
    "        path = path.decode()\n",
    "    x = cv2.imread(path, cv2.IMREAD_COLOR)\n",
    "    x = cv2.resize(x, (IMAGE_SIZE, IMAGE_SIZE))\n",
    "    x = x / 255.0\n",
    "    x = x.astype(np.float32)\n",
    "    return x"
   ]
  },
  {
   "cell_type": "code",
   "execution_count": null,
   "metadata": {},
   "outputs": [],
   "source": [
    "for mask_filter in glob.glob(str(masks/'*.png')):\n",
    "\n",
    "    if \"ilpendam\" in str(mask_filter) or \"jisp\" in str(mask_filter):\n",
    "        x = read_image(mask_filter, 4000)\n",
    "        x = x*255\n",
    "        x_temp = np.where(x==1,0,x)\n",
    "        x_temp = np.where(x==2,1,x_temp)    \n",
    "    else:\n",
    "        x = read_image(mask_filter, 4096)\n",
    "        x = x*255\n",
    "        x_temp = np.where(x==2,0,x)\n",
    "\n",
    "    print(np.unique(x_temp, return_counts=True))\n",
    "    cv2.imwrite(mask_filter,x_temp)    "
   ]
  },
  {
   "cell_type": "markdown",
   "metadata": {},
   "source": []
  }
 ],
 "metadata": {
  "kernelspec": {
   "display_name": "scheurdetv2",
   "language": "python",
   "name": "python3"
  },
  "language_info": {
   "codemirror_mode": {
    "name": "ipython",
    "version": 3
   },
   "file_extension": ".py",
   "mimetype": "text/x-python",
   "name": "python",
   "nbconvert_exporter": "python",
   "pygments_lexer": "ipython3",
   "version": "3.9.0"
  },
  "orig_nbformat": 4
 },
 "nbformat": 4,
 "nbformat_minor": 2
}
