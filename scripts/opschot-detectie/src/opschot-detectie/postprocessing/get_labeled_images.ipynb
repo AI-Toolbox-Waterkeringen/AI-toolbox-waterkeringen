{
 "cells": [
  {
   "cell_type": "code",
   "execution_count": null,
   "id": "0",
   "metadata": {},
   "outputs": [],
   "source": [
    "import glob\n",
    "from pathlib import Path\n",
    "import json\n",
    "import pandas as pd\n",
    "\n",
    "# test_grounding..subset.ipynb draaien en afbeelding (tegel) naam toevoegen als kolom\n",
    "\n",
    "# lijst met afbeeldingen waarin in supervisely geen opschot is aangegeven en in SAM wel (De false hits)"
   ]
  },
  {
   "cell_type": "code",
   "execution_count": null,
   "id": "1",
   "metadata": {},
   "outputs": [],
   "source": [
    "# dataDir = Path(\"data/supervisely/2023-12-11 12:52:14.810/\")\n",
    "# coco = COCO(\"data/supervisely/2023-12-11 12:52:14.810/annotations/instances.json\")\n",
    "# cats = coco.loadCats(coco.getCatIds())\n",
    "# nms = [cat[\"name\"] for cat in cats]\n",
    "# catIds = coco.getCatIds(catNms=nms)\n",
    "# imgIds = coco.getImgIds()\n",
    "\n",
    "# for imgId in imgIds:\n",
    "#     # COCO format image path and annotation\n",
    "#     img = coco.loadImgs(imgId)[0]\n",
    "#     imgPath = dataDir.joinpath(\"images\").joinpath(img[\"file_name\"])\n",
    "#     anns = {}\n",
    "#     for catId in catIds:\n",
    "#         anns[catId] = coco.loadAnns(coco.getAnnIds(imgIds=img[\"id\"], catIds=[catId], iscrowd=None))\n",
    "#     break\n",
    "# len(anns)"
   ]
  },
  {
   "cell_type": "code",
   "execution_count": null,
   "id": "2",
   "metadata": {},
   "outputs": [],
   "source": []
  },
  {
   "cell_type": "code",
   "execution_count": null,
   "id": "3",
   "metadata": {},
   "outputs": [],
   "source": [
    "def is_image_labeled(image_id):\n",
    "    return image_id in annotated_image_ids"
   ]
  },
  {
   "cell_type": "code",
   "execution_count": null,
   "id": "4",
   "metadata": {},
   "outputs": [],
   "source": [
    "df_images_labeled_list = []\n",
    "\n",
    "dataDirs = [Path(p) for p in glob.glob(\"data/supervisely/2023*\")]\n",
    "for dataDir in dataDirs:\n",
    "    projName = (\n",
    "        Path(glob.glob(f\"{str(dataDir)}/images/*\")[0])\n",
    "        .stem.split(\"_\")[0]\n",
    "        .replace(\" \", \"_\")\n",
    "    )\n",
    "    print(projName)\n",
    "    with open(dataDir / \"annotations\" / \"instances.json\") as file:\n",
    "        data = json.load(file)\n",
    "\n",
    "    annotations = data[\"annotations\"]\n",
    "    images = data[\"images\"]\n",
    "\n",
    "    # Create a set of all image IDs that have annotations\n",
    "    annotated_image_ids = {annotation[\"image_id\"] for annotation in annotations}\n",
    "    df_images = pd.DataFrame(images)\n",
    "\n",
    "    df_images_labeled = df_images[df_images[\"id\"].isin(annotated_image_ids)]\n",
    "\n",
    "    df_images_labeled_list.append(df_images_labeled)"
   ]
  },
  {
   "cell_type": "code",
   "execution_count": null,
   "id": "5",
   "metadata": {},
   "outputs": [],
   "source": [
    "pd.concat(df_images_labeled_list).reset_index().to_csv(\n",
    "    \"labeled_images.csv\", index=False\n",
    ")"
   ]
  },
  {
   "cell_type": "code",
   "execution_count": null,
   "id": "6",
   "metadata": {},
   "outputs": [],
   "source": []
  },
  {
   "cell_type": "code",
   "execution_count": null,
   "id": "7",
   "metadata": {},
   "outputs": [],
   "source": []
  }
 ],
 "metadata": {
  "kernelspec": {
   "display_name": "Python [conda env:stable]",
   "language": "python",
   "name": "conda-env-stable-py"
  },
  "language_info": {
   "codemirror_mode": {
    "name": "ipython",
    "version": 3
   },
   "file_extension": ".py",
   "mimetype": "text/x-python",
   "name": "python",
   "nbconvert_exporter": "python",
   "pygments_lexer": "ipython3",
   "version": "3.8.15"
  }
 },
 "nbformat": 4,
 "nbformat_minor": 5
}
