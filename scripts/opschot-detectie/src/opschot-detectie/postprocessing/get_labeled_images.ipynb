{
 "cells": [
  {
   "cell_type": "code",
   "execution_count": null,
   "id": "9ce4892d-89e7-426f-bb0f-d86ae0775e8c",
   "metadata": {},
   "outputs": [],
   "source": [
    "from pycocotools.coco import COCO\n",
    "import glob\n",
    "from pathlib import Path\n",
    "import json\n",
    "import pandas as pd\n",
    "\n",
    "# test_grounding..subset.ipynb draaien en afbeelding (tegel) naam toevoegen als kolom\n",
    "\n",
    "# lijst met afbeeldingen waarin in supervisely geen opschot is aangegeven en in SAM wel (De false hits)"
   ]
  },
  {
   "cell_type": "code",
   "execution_count": 20,
   "id": "ededf59b-947d-4e92-9468-1ee23d554b4d",
   "metadata": {},
   "outputs": [],
   "source": [
    "# dataDir = Path(\"data/supervisely/2023-12-11 12:52:14.810/\")\n",
    "# coco = COCO(\"data/supervisely/2023-12-11 12:52:14.810/annotations/instances.json\")\n",
    "# cats = coco.loadCats(coco.getCatIds())\n",
    "# nms = [cat[\"name\"] for cat in cats]\n",
    "# catIds = coco.getCatIds(catNms=nms)\n",
    "# imgIds = coco.getImgIds()\n",
    "\n",
    "# for imgId in imgIds:\n",
    "#     # COCO format image path and annotation\n",
    "#     img = coco.loadImgs(imgId)[0]\n",
    "#     imgPath = dataDir.joinpath(\"images\").joinpath(img[\"file_name\"])\n",
    "#     anns = {}\n",
    "#     for catId in catIds:\n",
    "#         anns[catId] = coco.loadAnns(coco.getAnnIds(imgIds=img[\"id\"], catIds=[catId], iscrowd=None))\n",
    "#     break\n",
    "# len(anns)"
   ]
  },
  {
   "cell_type": "code",
   "execution_count": 11,
   "id": "055ec036-c4d2-4857-bd46-ffb0f07d3815",
   "metadata": {},
   "outputs": [],
   "source": []
  },
  {
   "cell_type": "code",
   "execution_count": 13,
   "id": "e5edac7b-d31a-47f0-be16-d0e7f7c13a7a",
   "metadata": {},
   "outputs": [],
   "source": [
    "def is_image_labeled(image_id):\n",
    "    return image_id in annotated_image_ids"
   ]
  },
  {
   "cell_type": "code",
   "execution_count": 38,
   "id": "0ddf683d-713b-4e76-bc27-f0ffbf242e96",
   "metadata": {},
   "outputs": [
    {
     "name": "stdout",
     "output_type": "stream",
     "text": [
      "20230714_MUG_Medemblik_Den_Oever_orthomosaic_deel_14\n",
      "20230714_MUG_Medemblik_Den_Oever_orthomosaic_deel_13\n",
      "20230714_MUG_Medemblik_Den_Oever_orthomosaic_deel_12\n",
      "20230714_MUG_Medemblik_Den_Oever_orthomosaic_deel_11\n",
      "20230714_MUG_Medemblik_Den_Oever_orthomosaic_deel_10\n",
      "20230714_MUG_Medemblik_Den_Oever_orthomosaic_deel_9\n",
      "20230714_MUG_Medemblik_Den_Oever_orthomosaic_deel_8\n",
      "20230714_MUG_Medemblik_Den_Oever_orthomosaic_deel_7\n",
      "20230714_MUG_Medemblik_Den_Oever_orthomosaic_deel_6\n",
      "20230714_MUG_Medemblik_Den_Oever_orthomosaic_deel_5\n",
      "20230714_MUG_Medemblik_Den_Oever_orthomosaic_deel_4\n",
      "20230714_MUG_Medemblik_Den_Oever_orthomosaic_deel_3\n",
      "20230714_MUG_Medemblik_Den_Oever_orthomosaic_deel_2\n",
      "20230714_MUG_Medemblik_Den_Oever_orthomosaic_deel_1\n",
      "20230714_MUG_Hoorn_Enkhuizen_orthomosaic_deel_12\n",
      "20230714_MUG_Hoorn_Enkhuizen_orthomosaic_deel_11\n",
      "20230714_MUG_Hoorn_Enkhuizen_orthomosaic_deel_10\n",
      "20230714_MUG_Hoorn_Enkhuizen_orthomosaic_deel_9\n",
      "20230714_MUG_Hoorn_Enkhuizen_orthomosaic_deel_8\n",
      "20230714_MUG_Hoorn_Enkhuizen_orthomosaic_deel_7\n",
      "20230714_MUG_Hoorn_Enkhuizen_orthomosaic_deel_6\n",
      "20230714_MUG_Hoorn_Enkhuizen_orthomosaic_deel_5\n",
      "20230714_MUG_Hoorn_Enkhuizen_orthomosaic_deel_4\n",
      "20230714_MUG_Hoorn_Enkhuizen_orthomosaic_deel_3\n",
      "20230714_MUG_Hoorn_Enkhuizen_orthomosaic_deel_2\n",
      "20230714_MUG_Hoorn_Enkhuizen_orthomosaic_deel_1\n"
     ]
    }
   ],
   "source": [
    "df_images_labeled_list = []\n",
    "\n",
    "dataDirs = [\n",
    "    Path(p)\n",
    "    for p in glob.glob(\"data/supervisely/2023*\")\n",
    "]\n",
    "for dataDir in dataDirs:\n",
    "    projName = (\n",
    "        Path(glob.glob(f\"{str(dataDir)}/images/*\")[0])\n",
    "        .stem.split(\"_\")[0]\n",
    "        .replace(\" \", \"_\")\n",
    "    )\n",
    "    print(projName)\n",
    "    with open(dataDir / \"annotations\" / \"instances.json\") as file:\n",
    "        data = json.load(file)\n",
    "\n",
    "    annotations = data[\"annotations\"]\n",
    "    images = data[\"images\"]\n",
    "\n",
    "    # Create a set of all image IDs that have annotations\n",
    "    annotated_image_ids = {annotation[\"image_id\"] for annotation in annotations}\n",
    "    df_images = pd.DataFrame(images)\n",
    "\n",
    "    df_images_labeled = df_images[df_images[\"id\"].isin(annotated_image_ids)]\n",
    "\n",
    "    df_images_labeled_list.append(df_images_labeled)"
   ]
  },
  {
   "cell_type": "code",
   "execution_count": 43,
   "id": "3f177ea6-56ee-4679-a26b-c4ba5fa106d6",
   "metadata": {},
   "outputs": [],
   "source": [
    "pd.concat(df_images_labeled_list).reset_index().to_csv(\n",
    "    \"labeled_images.csv\", index=False\n",
    ")"
   ]
  },
  {
   "cell_type": "code",
   "execution_count": 34,
   "id": "aa5ebb8c-94ec-47c2-b778-72d9505814f8",
   "metadata": {},
   "outputs": [
    {
     "data": {
      "text/plain": [
       "set()"
      ]
     },
     "execution_count": 34,
     "metadata": {},
     "output_type": "execute_result"
    }
   ],
   "source": []
  },
  {
   "cell_type": "code",
   "execution_count": null,
   "id": "c8aba457-12df-4160-adb9-97ee84ddfad6",
   "metadata": {},
   "outputs": [],
   "source": []
  }
 ],
 "metadata": {
  "kernelspec": {
   "display_name": "Python [conda env:stable]",
   "language": "python",
   "name": "conda-env-stable-py"
  },
  "language_info": {
   "codemirror_mode": {
    "name": "ipython",
    "version": 3
   },
   "file_extension": ".py",
   "mimetype": "text/x-python",
   "name": "python",
   "nbconvert_exporter": "python",
   "pygments_lexer": "ipython3",
   "version": "3.8.15"
  }
 },
 "nbformat": 4,
 "nbformat_minor": 5
}
